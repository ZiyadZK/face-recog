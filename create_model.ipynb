{
 "cells": [
  {
   "cell_type": "code",
   "execution_count": 1,
   "id": "7ec14b21-f92a-452c-950b-fa9bdca6fa71",
   "metadata": {},
   "outputs": [],
   "source": [
    "import tensorflow as tf\n",
    "from tensorflow.keras import layers, models\n",
    "from tensorflow.keras import Model\n",
    "from tensorflow import keras\n",
    "\n",
    "import numpy as np"
   ]
  },
  {
   "cell_type": "code",
   "execution_count": 2,
   "id": "d4ac6605-845e-47fe-b35b-b503231122fd",
   "metadata": {},
   "outputs": [],
   "source": [
    "# Fungsi untuk membuat model kontrastif\n",
    "def create_contrastive_model(input_shape, embedding_size=64):\n",
    "    input_a = tf.keras.Input(shape=input_shape)\n",
    "    input_b = tf.keras.Input(shape=input_shape)\n",
    "\n",
    "    # Bagian jaringan konvolusi bersama\n",
    "    shared_conv = models.Sequential([\n",
    "        layers.Conv2D(32, (5, 5), activation='relu', input_shape=input_shape),\n",
    "        layers.MaxPooling2D((2, 2)),\n",
    "        layers.Conv2D(64, (5, 5), activation='relu'),\n",
    "        layers.MaxPooling2D((2, 2)),\n",
    "        layers.Conv2D(128, (5, 5), activation='relu'),\n",
    "        layers.MaxPooling2D((2, 2)),\n",
    "        layers.Flatten(),\n",
    "        layers.Dense(embedding_size, activation='relu')\n",
    "    ])\n",
    "\n",
    "    # Menghasilkan representasi vektor untuk setiap input\n",
    "    output_a = shared_conv(input_a)\n",
    "    output_b = shared_conv(input_b)\n",
    "\n",
    "    # Layer untuk menghitung jarak Euclidean antara dua vektor\n",
    "    distance = layers.Lambda(lambda embeddings: tf.norm(embeddings[0] - embeddings[1], axis=1, keepdims=True), name='distance')([output_a, output_b])\n",
    "\n",
    "    # Membangun model\n",
    "    model = Model(inputs=[input_a, input_b], outputs=distance)\n",
    "    return model"
   ]
  },
  {
   "cell_type": "code",
   "execution_count": 3,
   "id": "8e97ab3c-2c62-4645-8352-d28fde315663",
   "metadata": {},
   "outputs": [],
   "source": [
    "input_shape = (160, 160, 1)  # Sesuaikan dengan ukuran gambar yang digunakan\n",
    "contrastive_model = create_contrastive_model(input_shape)"
   ]
  },
  {
   "cell_type": "code",
   "execution_count": 4,
   "id": "7d1ffc36-4b41-4bc3-9490-f1da270d1127",
   "metadata": {},
   "outputs": [],
   "source": [
    "def contrastive_loss(y_true, distance):\n",
    "    margin = 1.0\n",
    "    return tf.reduce_mean(y_true * tf.square(distance) + (1 - y_true) * tf.square(tf.maximum(margin - distance, 0)))"
   ]
  },
  {
   "cell_type": "code",
   "execution_count": 5,
   "id": "4f3e3f7f-422e-43ec-9ca6-c960631611fa",
   "metadata": {},
   "outputs": [
    {
     "name": "stdout",
     "output_type": "stream",
     "text": [
      "Model: \"model\"\n",
      "__________________________________________________________________________________________________\n",
      " Layer (type)                Output Shape                 Param #   Connected to                  \n",
      "==================================================================================================\n",
      " input_1 (InputLayer)        [(None, 160, 160, 1)]        0         []                            \n",
      "                                                                                                  \n",
      " input_2 (InputLayer)        [(None, 160, 160, 1)]        0         []                            \n",
      "                                                                                                  \n",
      " sequential (Sequential)     (None, 64)                   2354240   ['input_1[0][0]',             \n",
      "                                                                     'input_2[0][0]']             \n",
      "                                                                                                  \n",
      " distance (Lambda)           (None, 1)                    0         ['sequential[0][0]',          \n",
      "                                                                     'sequential[1][0]']          \n",
      "                                                                                                  \n",
      "==================================================================================================\n",
      "Total params: 2354240 (8.98 MB)\n",
      "Trainable params: 2354240 (8.98 MB)\n",
      "Non-trainable params: 0 (0.00 Byte)\n",
      "__________________________________________________________________________________________________\n"
     ]
    }
   ],
   "source": [
    "contrastive_model.compile(optimizer='adam', loss=contrastive_loss)\n",
    "contrastive_model.summary()"
   ]
  },
  {
   "cell_type": "code",
   "execution_count": 6,
   "id": "f8913221-1de8-40c1-a056-277b3aecd96d",
   "metadata": {},
   "outputs": [
    {
     "name": "stderr",
     "output_type": "stream",
     "text": [
      "c:\\users\\crozi\\appdata\\local\\programs\\python\\python39\\lib\\site-packages\\keras\\src\\engine\\training.py:3000: UserWarning: You are saving your model as an HDF5 file via `model.save()`. This file format is considered legacy. We recommend using instead the native Keras format, e.g. `model.save('my_model.keras')`.\n",
      "  saving_api.save_model(\n"
     ]
    }
   ],
   "source": [
    "contrastive_model.save('facematching.h5')"
   ]
  },
  {
   "cell_type": "code",
   "execution_count": null,
   "id": "64c3d6c0-4086-4a7f-95c7-cd04a86b14be",
   "metadata": {},
   "outputs": [],
   "source": []
  }
 ],
 "metadata": {
  "kernelspec": {
   "display_name": "Python 3 (ipykernel)",
   "language": "python",
   "name": "python3"
  },
  "language_info": {
   "codemirror_mode": {
    "name": "ipython",
    "version": 3
   },
   "file_extension": ".py",
   "mimetype": "text/x-python",
   "name": "python",
   "nbconvert_exporter": "python",
   "pygments_lexer": "ipython3",
   "version": "3.9.2"
  }
 },
 "nbformat": 4,
 "nbformat_minor": 5
}
